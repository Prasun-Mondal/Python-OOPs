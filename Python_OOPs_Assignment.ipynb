{
  "nbformat": 4,
  "nbformat_minor": 0,
  "metadata": {
    "colab": {
      "provenance": []
    },
    "kernelspec": {
      "name": "python3",
      "display_name": "Python 3"
    },
    "language_info": {
      "name": "python"
    }
  },
  "cells": [
    {
      "cell_type": "markdown",
      "source": [
        "# Python OOPs Questions"
      ],
      "metadata": {
        "id": "N-DpAzD85PjB"
      }
    },
    {
      "cell_type": "markdown",
      "source": [
        "# Theory Questions"
      ],
      "metadata": {
        "id": "OJqHMUQJ5XNS"
      }
    },
    {
      "cell_type": "markdown",
      "source": [
        "Q1>\tWhat is Object-Oriented Programming (OOP)?\n",
        "\n",
        "Ans> Object-Oriented Programming (OOP) is a programming paradigm that organizes software design around objects and data, rather than functions and logic. It focuses on the creation of reusable and modular components, allowing for inheritance, polymorphism, abstraction, and encapsulation to structure and manage code.\n",
        "\n",
        "Q2> What is a class in OOP?\n",
        "\n",
        "Ans> A class is a blueprint for creating objects in OOP. It defines a set of attributes (variables) and methods (functions) that objects of that class will have. A class encapsulates data and functions that operate on that data, allowing for the creation of instances (objects).\n",
        "\n",
        "Q3> What is an object in OOP?\n",
        "\n",
        "Ans> An object is an instance of a class. It is a real-world entity created from the class blueprint and has its own properties (attributes) and behaviors (methods). Objects represent actual things in the code.\n",
        "\n",
        "Q4> What is the difference between abstraction and encapsulation?\n",
        "\n",
        "Ans> **Abstraction** is the concept of hiding the complex implementation details and showing only the essential features of an object. It allows focusing on what an object does, rather than how it does it.\n",
        "\n",
        "**Encapsulation** is the practice of bundling the data (attributes) and methods (functions) that operate on the data within a single unit or class. It also involves restricting access to some of the object's components to prevent unintended interference.\n",
        "\n",
        "Q5> What are dunder methods in Python?\n",
        "\n",
        "Ans> Dunder methods (or magic methods) are special methods in Python that are surrounded by double underscores, such as `__init__, __str__, __repr__,` and `__add__`. These methods allow you to customize the behavior of objects in certain operations, like initialization, string representation, or arithmetic operations.\n",
        "\n",
        "Q6> Explain the concept of inheritance in OOP?\n",
        "\n",
        "Ans> Inheritance is a mechanism in OOP that allows a class (child class) to inherit attributes and methods from another class (parent class). It allows for code reuse and establishes a hierarchical relationship between classes.\n",
        "\n",
        "Q7> What is polymorphism in OOP?\n",
        "\n",
        "Ans> Polymorphism is the ability to use a single interface or method name for different types of objects. This means that different classes can have methods with the same name but behave differently based on the object calling the method.\n",
        "\n",
        "Q8> How is encapsulation achieved in Python?\n",
        "\n",
        "Ans> Encapsulation in Python is achieved through the use of classes and by controlling access to class attributes and methods. Python uses access specifiers like private (_variable), protected (__variable), and public (variable) to restrict or allow access to the attributes and methods.\n",
        "\n",
        "Q9> What is a constructor in Python?\n",
        "\n",
        "Ans> A constructor in Python is a special method `__init__()` used to initialize newly created objects. It is called automatically when a new object of a class is created and is used to set the initial state of the object.\n",
        "\n",
        "Q10> What are class and static methods in Python?\n",
        "\n",
        "Ans> **Class method** is a method that is bound to the class rather than the instance of the class. It is defined with @classmethod decorator and takes cls as the first argument.\n",
        "\n",
        "**Static method** is a method that does not take self or cls as the first argument. It is defined with @staticmethod and is independent of the class and instance. It can be called on the class or an object.\n",
        "\n",
        "Q11> What is method overloading in Python?\n",
        "\n",
        "Ans> Method overloading is the ability to define multiple methods with the same name but with different argument types or numbers. Python does not support method overloading directly, but you can simulate it by using default arguments or variable-length arguments.\n",
        "\n",
        "Q12> What is method overriding in OOP?\n",
        "\n",
        "Ans> Method overriding occurs when a subclass provides its own implementation of a method that is already defined in its parent class. This allows the subclass to modify or extend the functionality of the parent class method.\n",
        "\n",
        "Q13> What is a property decorator in Python?\n",
        "\n",
        "Ans> The `@property` decorator in Python is used to define a method as a property, allowing you to access it like an attribute. This is useful for creating read-only attributes or controlling access to an attribute while hiding implementation details.\n",
        "\n",
        "Q14> Why is polymorphism important in OOP?\n",
        "\n",
        "Ans> Polymorphism allows for more flexible and reusable code by enabling objects of different types to be treated as if they are of the same type. It helps in creating systems that can handle a variety of objects and behaviors in a uniform way.\n",
        "\n",
        "Q15> What is an abstract class in Python?\n",
        "\n",
        "Ans> An abstract class in Python is a class that cannot be instantiated on its own and is meant to be subclassed. It can contain abstract methods that must be implemented by subclasses. Abstract classes are defined using the ABC module and `@abstractmethod` decorator.\n",
        "\n",
        "Q16> What are the advantages of OOP?\n",
        "\n",
        "Ans> **Modularity**: Code is organized into reusable classes.\n",
        "\n",
        "**Reusability**: Inheritance allows for reusing existing code.\n",
        "\n",
        "**Maintainability**: Code is easier to modify and maintain due to encapsulation and modularity.\n",
        "\n",
        "**Scalability**: Systems can grow in a more manageable way.\n",
        "\n",
        "**Flexibility**: Polymorphism allows different objects to be treated uniformly.\n",
        "\n",
        "Q17> What is the difference between a class variable and an instance variable?\n",
        "\n",
        "Ans> **Class variable** is shared by all instances of the class. It is defined within the class but outside any methods.\n",
        "\n",
        "**Instance variable** is unique to each instance of the class. It is usually defined within methods and is tied to specific objects.\n",
        "\n",
        "Q18> What is multiple inheritance in Python?\n",
        "\n",
        "Ans> Multiple inheritance in Python occurs when a class is derived from more than one base class. Python supports multiple inheritance, allowing a class to inherit attributes and methods from multiple classes.\n",
        "\n",
        "Q19> Explain the purpose of `__str__` and `__repr__` methods in Python?\n",
        "\n",
        "Ans> `__str__`: It is used to define a user-friendly string representation of an object. It is meant for display to the end user.\n",
        "\n",
        "`__repr__`: It is used to define an official string representation of an object. It is meant for debugging and logging and should ideally return a string that could be used to recreate the object.\n",
        "\n",
        "Q20> What is the significance of the `super()` function in Python?\n",
        "\n",
        "Ans> The `super()` function is used to call a method from a parent class. It allows a subclass to invoke the method of its parent, ensuring proper method resolution in cases of inheritance.\n",
        "\n",
        "Q21> What is the significance of the `__del__` method in Python?\n",
        "\n",
        "Ans> The `__del__` method is a destructor method in Python, which is called when an object is about to be destroyed. It is used for cleanup purposes, such as releasing resources or closing connections.\n",
        "\n",
        "Q22> What is the difference between `@staticmethod` and `@classmethod` in Python?\n",
        "\n",
        "Ans> `@staticmethod`: A method that does not take a reference to the instance (`self`) or the class (`cls`). It can be called on both the class and an instance.\n",
        "\n",
        "`@classmethod`: A method that takes a reference to the class (`cls`) as the first argument. It can modify class state and is bound to the class, not instances.\n",
        "\n",
        "Q23> How does polymorphism work in Python with inheritance?\n",
        "\n",
        "Ans> In Python, polymorphism with inheritance allows a subclass to define a method with the same name as in the parent class, but with a different implementation. This enables different behaviors based on the object type, even when using the same method name.\n",
        "\n",
        "Q24> What is method chaining in Python OOP?\n",
        "\n",
        "Ans> Method chaining refers to the technique of calling multiple methods on the same object in a single line. It is typically used when methods return the object itself (i.e., `self`), allowing you to chain method calls together.\n",
        "\n",
        "Q25> What is the purpose of the `__call__` method in Python?\n",
        "\n",
        "Ans> The`__call__` method allows an instance of a class to be called like a function. When an object is called as if it were a function, Python will invoke the `__call__` method. This is useful for implementing objects that need to behave like functions."
      ],
      "metadata": {
        "id": "Y345JjR15h1a"
      }
    },
    {
      "cell_type": "markdown",
      "source": [
        "# Practical Questions"
      ],
      "metadata": {
        "id": "XnlvxGNX9-it"
      }
    },
    {
      "cell_type": "markdown",
      "source": [
        "Q1> Create a parent class Animal with a method speak() that prints a generic message. Create a child class Dog\n",
        "that overrides the speak() method to print \"Bark!\"."
      ],
      "metadata": {
        "id": "eV37DDTS-Ewp"
      }
    },
    {
      "cell_type": "code",
      "source": [
        "# Parent class\n",
        "class Animal:\n",
        "    def speak(self):\n",
        "        print(\"This animal makes a sound.\")\n",
        "\n",
        "# Child class\n",
        "class Dog(Animal):\n",
        "    def speak(self):\n",
        "        print(\"Bark!\")\n",
        "\n",
        "# Creating instances and testing\n",
        "animal = Animal()\n",
        "dog = Dog()\n",
        "\n",
        "# Calling the speak method\n",
        "animal.speak()  # Output: This animal makes a sound.\n",
        "dog.speak()     # Output: Bark!\n"
      ],
      "metadata": {
        "colab": {
          "base_uri": "https://localhost:8080/"
        },
        "id": "Lk3WOTTs5W3D",
        "outputId": "e0b9b938-fd96-40d1-d73e-db85725cb879"
      },
      "execution_count": 1,
      "outputs": [
        {
          "output_type": "stream",
          "name": "stdout",
          "text": [
            "This animal makes a sound.\n",
            "Bark!\n"
          ]
        }
      ]
    },
    {
      "cell_type": "markdown",
      "source": [
        "Q2> Write a program to create an abstract class Shape with a method area(). Derive classes Circle and Rectangle\n",
        "from it and implement the area() method in both."
      ],
      "metadata": {
        "id": "3L2GViQc-ZgB"
      }
    },
    {
      "cell_type": "code",
      "source": [
        "from abc import ABC, abstractmethod\n",
        "import math\n",
        "\n",
        "# Abstract class Shape\n",
        "class Shape(ABC):\n",
        "    @abstractmethod\n",
        "    def area(self):\n",
        "        pass\n",
        "\n",
        "# Derived class Circle\n",
        "class Circle(Shape):\n",
        "    def __init__(self, radius):\n",
        "        self.radius = radius\n",
        "\n",
        "    def area(self):\n",
        "        return math.pi * (self.radius ** 2)\n",
        "\n",
        "# Derived class Rectangle\n",
        "class Rectangle(Shape):\n",
        "    def __init__(self, width, height):\n",
        "        self.width = width\n",
        "        self.height = height\n",
        "\n",
        "    def area(self):\n",
        "        return self.width * self.height\n",
        "\n",
        "# Creating instances of Circle and Rectangle\n",
        "circle = Circle(5)\n",
        "rectangle = Rectangle(4, 6)\n",
        "\n",
        "# Printing the area of both shapes\n",
        "print(f\"Area of Circle: {circle.area()}\")        # Area of Circle: 78.53981633974483\n",
        "print(f\"Area of Rectangle: {rectangle.area()}\")  # Area of Rectangle: 24\n"
      ],
      "metadata": {
        "colab": {
          "base_uri": "https://localhost:8080/"
        },
        "id": "Ow6ONBOA-dPE",
        "outputId": "b2e5897a-78fc-47c6-f845-d7292ea22228"
      },
      "execution_count": 2,
      "outputs": [
        {
          "output_type": "stream",
          "name": "stdout",
          "text": [
            "Area of Circle: 78.53981633974483\n",
            "Area of Rectangle: 24\n"
          ]
        }
      ]
    },
    {
      "cell_type": "markdown",
      "source": [
        "Q3>  Implement a multi-level inheritance scenario where a class Vehicle has an attribute type. Derive a class Car\n",
        "and further derive a class ElectricCar that adds a battery attribute."
      ],
      "metadata": {
        "id": "2LIu61ed-qWt"
      }
    },
    {
      "cell_type": "code",
      "source": [
        "# Parent class Vehicle\n",
        "class Vehicle:\n",
        "    def __init__(self, vehicle_type):\n",
        "        self.vehicle_type = vehicle_type\n",
        "\n",
        "    def display_type(self):\n",
        "        print(f\"This is a {self.vehicle_type}.\")\n",
        "\n",
        "# Derived class Car\n",
        "class Car(Vehicle):\n",
        "    def __init__(self, vehicle_type, model):\n",
        "        # Calling the constructor of the parent class (Vehicle)\n",
        "        super().__init__(vehicle_type)\n",
        "        self.model = model\n",
        "\n",
        "    def display_car(self):\n",
        "        print(f\"This car is a {self.model}.\")\n",
        "\n",
        "# Further derived class ElectricCar\n",
        "class ElectricCar(Car):\n",
        "    def __init__(self, vehicle_type, model, battery_capacity):\n",
        "        # Calling the constructor of the parent class (Car)\n",
        "        super().__init__(vehicle_type, model)\n",
        "        self.battery_capacity = battery_capacity\n",
        "\n",
        "    def display_battery(self):\n",
        "        print(f\"This electric car has a {self.battery_capacity} kWh battery.\")\n",
        "\n",
        "# Creating an instance of ElectricCar\n",
        "electric_car = ElectricCar(\"Electric Vehicle\", \"Tesla Model S\", 100)\n",
        "\n",
        "# Calling methods from different levels of inheritance\n",
        "electric_car.display_type()          # Output: This is an Electric Vehicle.\n",
        "electric_car.display_car()           # Output: This car is a Tesla Model S.\n",
        "electric_car.display_battery()       # Output: This electric car has a 100 kWh battery.\n"
      ],
      "metadata": {
        "colab": {
          "base_uri": "https://localhost:8080/"
        },
        "id": "UduJ3uqk-u9y",
        "outputId": "1ae9de43-67cd-40b7-fdf6-d97ff56d061e"
      },
      "execution_count": 3,
      "outputs": [
        {
          "output_type": "stream",
          "name": "stdout",
          "text": [
            "This is a Electric Vehicle.\n",
            "This car is a Tesla Model S.\n",
            "This electric car has a 100 kWh battery.\n"
          ]
        }
      ]
    },
    {
      "cell_type": "markdown",
      "source": [
        "Q4>  Implement a multi-level inheritance scenario where a class Vehicle has an attribute type. Derive a class Car\n",
        "and further derive a class ElectricCar that adds a battery attribute."
      ],
      "metadata": {
        "id": "1Zmzz4Q3-0DH"
      }
    },
    {
      "cell_type": "markdown",
      "source": [
        "Ans> Duplicate Question, Answer same as Question 3"
      ],
      "metadata": {
        "id": "c6GexoSr_NGs"
      }
    },
    {
      "cell_type": "markdown",
      "source": [
        "Q5> Write a program to demonstrate encapsulation by creating a class BankAccount with private attributes\n",
        "balance and methods to deposit, withdraw, and check balance."
      ],
      "metadata": {
        "id": "SVPqEOYV_TWv"
      }
    },
    {
      "cell_type": "code",
      "source": [
        "class BankAccount:\n",
        "    def __init__(self, initial_balance=0):\n",
        "        # Private attribute\n",
        "        self.__balance = initial_balance\n",
        "\n",
        "    # Method to deposit money\n",
        "    def deposit(self, amount):\n",
        "        if amount > 0:\n",
        "            self.__balance += amount\n",
        "            print(f\"Deposited ${amount}. Current balance: ${self.__balance}\")\n",
        "        else:\n",
        "            print(\"Deposit amount must be positive.\")\n",
        "\n",
        "    # Method to withdraw money\n",
        "    def withdraw(self, amount):\n",
        "        if amount > 0 and amount <= self.__balance:\n",
        "            self.__balance -= amount\n",
        "            print(f\"Withdrew ${amount}. Current balance: ${self.__balance}\")\n",
        "        elif amount > self.__balance:\n",
        "            print(\"Insufficient funds.\")\n",
        "        else:\n",
        "            print(\"Withdrawal amount must be positive.\")\n",
        "\n",
        "    # Method to check balance\n",
        "    def check_balance(self):\n",
        "        print(f\"Current balance: ${self.__balance}\")\n",
        "\n",
        "# Creating an instance of BankAccount\n",
        "account = BankAccount(1000)  # Initial balance is 1000\n",
        "\n",
        "# Checking the initial balance\n",
        "account.check_balance()\n",
        "\n",
        "# Depositing money\n",
        "account.deposit(500)  # Deposit 500\n",
        "\n",
        "# Withdrawing money\n",
        "account.withdraw(300)  # Withdraw 300\n",
        "\n",
        "# Attempting an invalid withdrawal\n",
        "account.withdraw(2000)  # Trying to withdraw more than available balance\n",
        "\n",
        "# Checking balance after transactions\n",
        "account.check_balance()\n"
      ],
      "metadata": {
        "colab": {
          "base_uri": "https://localhost:8080/"
        },
        "id": "KsAFkcwI_bj7",
        "outputId": "803ea2e3-6688-410f-8b9c-b23d9cb16369"
      },
      "execution_count": 5,
      "outputs": [
        {
          "output_type": "stream",
          "name": "stdout",
          "text": [
            "Current balance: $1000\n",
            "Deposited $500. Current balance: $1500\n",
            "Withdrew $300. Current balance: $1200\n",
            "Insufficient funds.\n",
            "Current balance: $1200\n"
          ]
        }
      ]
    },
    {
      "cell_type": "markdown",
      "source": [
        "Q6> Demonstrate runtime polymorphism using a method play() in a base class Instrument. Derive classes Guitar\n",
        "and Piano that implement their own version of play()."
      ],
      "metadata": {
        "id": "zRWY6j73_orc"
      }
    },
    {
      "cell_type": "code",
      "source": [
        "# Base class Instrument\n",
        "class Instrument:\n",
        "    def play(self):\n",
        "        raise NotImplementedError(\"Subclasses must implement this method\")\n",
        "\n",
        "# Derived class Guitar\n",
        "class Guitar(Instrument):\n",
        "    def play(self):\n",
        "        print(\"Strumming the guitar.\")\n",
        "\n",
        "# Derived class Piano\n",
        "class Piano(Instrument):\n",
        "    def play(self):\n",
        "        print(\"Playing the piano.\")\n",
        "\n",
        "# Demonstrating runtime polymorphism\n",
        "def perform_play(instrument: Instrument):\n",
        "    instrument.play()\n",
        "\n",
        "# Creating instances of Guitar and Piano\n",
        "guitar = Guitar()\n",
        "piano = Piano()\n",
        "\n",
        "# Calling the play method on different objects\n",
        "perform_play(guitar)  # Output: Strumming the guitar.\n",
        "perform_play(piano)   # Output: Playing the piano.\n"
      ],
      "metadata": {
        "colab": {
          "base_uri": "https://localhost:8080/"
        },
        "id": "Ep103tCI_tns",
        "outputId": "1115d1d3-627f-49a8-9b9c-22aad6023fd9"
      },
      "execution_count": 6,
      "outputs": [
        {
          "output_type": "stream",
          "name": "stdout",
          "text": [
            "Strumming the guitar.\n",
            "Playing the piano.\n"
          ]
        }
      ]
    },
    {
      "cell_type": "markdown",
      "source": [
        "Q7> Create a class MathOperations with a class method add_numbers() to add two numbers and a static\n",
        "method subtract_numbers() to subtract two numbers."
      ],
      "metadata": {
        "id": "UVTBvO-S_zmE"
      }
    },
    {
      "cell_type": "code",
      "source": [
        "class MathOperations:\n",
        "    # Class method to add two numbers\n",
        "    @classmethod\n",
        "    def add_numbers(cls, a, b):\n",
        "        return a + b\n",
        "\n",
        "    # Static method to subtract two numbers\n",
        "    @staticmethod\n",
        "    def subtract_numbers(a, b):\n",
        "        return a - b\n",
        "\n",
        "# Using the class method and static method\n",
        "sum_result = MathOperations.add_numbers(10, 5)  # Using class method\n",
        "difference_result = MathOperations.subtract_numbers(10, 5)  # Using static method\n",
        "\n",
        "# Printing results\n",
        "print(f\"Sum: {sum_result}\")  # Output: Sum: 15\n",
        "print(f\"Difference: {difference_result}\")  # Output: Difference: 5\n"
      ],
      "metadata": {
        "colab": {
          "base_uri": "https://localhost:8080/"
        },
        "id": "QcgND06d_5EL",
        "outputId": "3e49f92b-ae51-4942-c790-8a84e04903fc"
      },
      "execution_count": 7,
      "outputs": [
        {
          "output_type": "stream",
          "name": "stdout",
          "text": [
            "Sum: 15\n",
            "Difference: 5\n"
          ]
        }
      ]
    },
    {
      "cell_type": "markdown",
      "source": [
        "Q8>  Implement a class Person with a class method to count the total number of persons created."
      ],
      "metadata": {
        "id": "xQkJmFkk_9k6"
      }
    },
    {
      "cell_type": "code",
      "source": [
        "class Person:\n",
        "    # Class variable to keep track of the number of Person objects\n",
        "    total_persons = 0\n",
        "\n",
        "    def __init__(self, name, age):\n",
        "        self.name = name\n",
        "        self.age = age\n",
        "        # Increment the count whenever a new Person object is created\n",
        "        Person.total_persons += 1\n",
        "\n",
        "    # Class method to return the total number of persons created\n",
        "    @classmethod\n",
        "    def count_persons(cls):\n",
        "        return cls.total_persons\n",
        "\n",
        "# Creating instances of Person\n",
        "person1 = Person(\"Alice\", 30)\n",
        "person2 = Person(\"Bob\", 25)\n",
        "person3 = Person(\"Charlie\", 35)\n",
        "\n",
        "# Using the class method to count the total number of persons\n",
        "print(f\"Total number of persons created: {Person.count_persons()}\")  # Output: Total number of persons created: 3\n"
      ],
      "metadata": {
        "colab": {
          "base_uri": "https://localhost:8080/"
        },
        "id": "3n-U8yIxACyJ",
        "outputId": "a9c61a92-1064-42d7-d339-634fd15b0ce5"
      },
      "execution_count": 8,
      "outputs": [
        {
          "output_type": "stream",
          "name": "stdout",
          "text": [
            "Total number of persons created: 3\n"
          ]
        }
      ]
    },
    {
      "cell_type": "markdown",
      "source": [
        "Q9> Write a class Fraction with attributes numerator and denominator. Override the str method to display the\n",
        "fraction as \"numerator/denominator\"."
      ],
      "metadata": {
        "id": "ZfDgEUwcAGcn"
      }
    },
    {
      "cell_type": "code",
      "source": [
        "class Fraction:\n",
        "    def __init__(self, numerator, denominator):\n",
        "        self.numerator = numerator\n",
        "        self.denominator = denominator\n",
        "\n",
        "    # Override __str__ method to display the fraction as \"numerator/denominator\"\n",
        "    def __str__(self):\n",
        "        return f\"{self.numerator}/{self.denominator}\"\n",
        "\n",
        "# Creating instances of Fraction\n",
        "fraction1 = Fraction(3, 4)\n",
        "fraction2 = Fraction(5, 6)\n",
        "\n",
        "# Displaying the fractions\n",
        "print(fraction1)  # Output: 3/4\n",
        "print(fraction2)  # Output: 5/6\n"
      ],
      "metadata": {
        "colab": {
          "base_uri": "https://localhost:8080/"
        },
        "id": "rxyjsovcALJG",
        "outputId": "b4aff424-3f74-48cd-fdff-57982a243038"
      },
      "execution_count": 9,
      "outputs": [
        {
          "output_type": "stream",
          "name": "stdout",
          "text": [
            "3/4\n",
            "5/6\n"
          ]
        }
      ]
    },
    {
      "cell_type": "markdown",
      "source": [
        "Q10> Demonstrate operator overloading by creating a class Vector and overriding the add method to add two\n",
        "vectors."
      ],
      "metadata": {
        "id": "4UgBSYZQAUf2"
      }
    },
    {
      "cell_type": "code",
      "source": [
        "class Vector:\n",
        "    def __init__(self, x, y):\n",
        "        self.x = x  # x-coordinate\n",
        "        self.y = y  # y-coordinate\n",
        "\n",
        "    # Overloading the + operator (add method)\n",
        "    def __add__(self, other):\n",
        "        if isinstance(other, Vector):\n",
        "            # Adding the corresponding components of the two vectors\n",
        "            return Vector(self.x + other.x, self.y + other.y)\n",
        "        return NotImplemented\n",
        "\n",
        "    # Method to display the vector in the form (x, y)\n",
        "    def __str__(self):\n",
        "        return f\"({self.x}, {self.y})\"\n",
        "\n",
        "# Creating instances of Vector\n",
        "vector1 = Vector(2, 3)\n",
        "vector2 = Vector(4, 5)\n",
        "\n",
        "# Adding two vectors using overloaded + operator\n",
        "result = vector1 + vector2\n",
        "\n",
        "# Displaying the result\n",
        "print(f\"Result of vector addition: {result}\")  # Output: Result of vector addition: (6, 8)\n"
      ],
      "metadata": {
        "colab": {
          "base_uri": "https://localhost:8080/"
        },
        "id": "5LpaY1Z8AYzX",
        "outputId": "d1cff351-378c-47b2-87b5-5b788b172680"
      },
      "execution_count": 10,
      "outputs": [
        {
          "output_type": "stream",
          "name": "stdout",
          "text": [
            "Result of vector addition: (6, 8)\n"
          ]
        }
      ]
    },
    {
      "cell_type": "markdown",
      "source": [
        "Q11>  Create a class Person with attributes name and age. Add a method greet() that prints \"Hello, my name is\n",
        "{name} and I am {age} years old.\""
      ],
      "metadata": {
        "id": "oQEWgZH9AlJO"
      }
    },
    {
      "cell_type": "code",
      "source": [
        "class Person:\n",
        "    def __init__(self, name, age):\n",
        "        # Initializing attributes name and age\n",
        "        self.name = name\n",
        "        self.age = age\n",
        "\n",
        "    def greet(self):\n",
        "        # Method to print a greeting message\n",
        "        print(f\"Hello, my name is {self.name} and I am {self.age} years old.\")\n",
        "\n",
        "# Creating an instance of Person\n",
        "person1 = Person(\"Alice\", 30)\n",
        "\n",
        "# Calling the greet method\n",
        "person1.greet()  # Output: Hello, my name is Alice and I am 30 years old.\n"
      ],
      "metadata": {
        "colab": {
          "base_uri": "https://localhost:8080/"
        },
        "id": "CjrrfaMeAnzS",
        "outputId": "f11942fc-7111-4c59-85f1-2ed1b6aaf95f"
      },
      "execution_count": 11,
      "outputs": [
        {
          "output_type": "stream",
          "name": "stdout",
          "text": [
            "Hello, my name is Alice and I am 30 years old.\n"
          ]
        }
      ]
    },
    {
      "cell_type": "markdown",
      "source": [
        "Q12>  Implement a class Student with attributes name and grades. Create a method average_grade() to compute\n",
        "the average of the grades."
      ],
      "metadata": {
        "id": "XJJdG93QAtak"
      }
    },
    {
      "cell_type": "code",
      "source": [
        "class Student:\n",
        "    def __init__(self, name, grades):\n",
        "        # Initializing the name and grades attributes\n",
        "        self.name = name\n",
        "        self.grades = grades\n",
        "\n",
        "    def average_grade(self):\n",
        "        # Computing the average of the grades\n",
        "        if len(self.grades) == 0:\n",
        "            return 0  # Avoid division by zero if no grades are provided\n",
        "        return sum(self.grades) / len(self.grades)\n",
        "\n",
        "# Creating an instance of Student\n",
        "student1 = Student(\"John\", [85, 90, 78, 92, 88])\n",
        "\n",
        "# Calling the average_grade method to compute the average\n",
        "average = student1.average_grade()\n",
        "\n",
        "# Printing the result\n",
        "print(f\"{student1.name}'s average grade is: {average:.2f}\")  # Output: John's average grade is: 86.60\n"
      ],
      "metadata": {
        "colab": {
          "base_uri": "https://localhost:8080/"
        },
        "id": "zNtP6byMA-Fj",
        "outputId": "082f3eb9-2b5f-4250-d395-157ce09e05b9"
      },
      "execution_count": 12,
      "outputs": [
        {
          "output_type": "stream",
          "name": "stdout",
          "text": [
            "John's average grade is: 86.60\n"
          ]
        }
      ]
    },
    {
      "cell_type": "markdown",
      "source": [
        "Q13> Create a class Rectangle with methods set_dimensions() to set the dimensions and area() to calculate the\n",
        "area."
      ],
      "metadata": {
        "id": "OsU9PAXGBEqP"
      }
    },
    {
      "cell_type": "code",
      "source": [
        "class Rectangle:\n",
        "    def __init__(self):\n",
        "        # Initialize the dimensions of the rectangle\n",
        "        self.length = 0\n",
        "        self.width = 0\n",
        "\n",
        "    # Method to set the dimensions of the rectangle\n",
        "    def set_dimensions(self, length, width):\n",
        "        self.length = length\n",
        "        self.width = width\n",
        "\n",
        "    # Method to calculate the area of the rectangle\n",
        "    def area(self):\n",
        "        return self.length * self.width\n",
        "\n",
        "# Creating an instance of Rectangle\n",
        "rectangle = Rectangle()\n",
        "\n",
        "# Setting the dimensions of the rectangle\n",
        "rectangle.set_dimensions(5, 3)\n",
        "\n",
        "# Calculating and printing the area of the rectangle\n",
        "print(f\"The area of the rectangle is: {rectangle.area()}\")  # Output: The area of the rectangle is: 15\n"
      ],
      "metadata": {
        "colab": {
          "base_uri": "https://localhost:8080/"
        },
        "id": "KCxEUt-iBHW_",
        "outputId": "bee9074a-5dd8-47e4-8a8f-015c35775bbb"
      },
      "execution_count": 13,
      "outputs": [
        {
          "output_type": "stream",
          "name": "stdout",
          "text": [
            "The area of the rectangle is: 15\n"
          ]
        }
      ]
    },
    {
      "cell_type": "markdown",
      "source": [
        "Q14>  Create a class Employee with a method calculate_salary() that computes the salary based on hours worked\n",
        "and hourly rate. Create a derived class Manager that adds a bonus to the salary."
      ],
      "metadata": {
        "id": "8VEaW1G1BM1p"
      }
    },
    {
      "cell_type": "code",
      "source": [
        "# Base class Employee\n",
        "class Employee:\n",
        "    def __init__(self, name, hours_worked, hourly_rate):\n",
        "        self.name = name\n",
        "        self.hours_worked = hours_worked\n",
        "        self.hourly_rate = hourly_rate\n",
        "\n",
        "    # Method to calculate salary based on hours worked and hourly rate\n",
        "    def calculate_salary(self):\n",
        "        return self.hours_worked * self.hourly_rate\n",
        "\n",
        "# Derived class Manager\n",
        "class Manager(Employee):\n",
        "    def __init__(self, name, hours_worked, hourly_rate, bonus):\n",
        "        # Initialize the base class attributes using super()\n",
        "        super().__init__(name, hours_worked, hourly_rate)\n",
        "        self.bonus = bonus\n",
        "\n",
        "    # Override calculate_salary to add bonus to the salary\n",
        "    def calculate_salary(self):\n",
        "        base_salary = super().calculate_salary()\n",
        "        return base_salary + self.bonus\n",
        "\n",
        "# Creating an Employee instance\n",
        "employee1 = Employee(\"Alice\", 40, 25)\n",
        "employee_salary = employee1.calculate_salary()\n",
        "print(f\"{employee1.name}'s salary: ${employee_salary}\")  # Output: Alice's salary: $1000\n",
        "\n",
        "# Creating a Manager instance\n",
        "manager1 = Manager(\"Bob\", 40, 30, 500)\n",
        "manager_salary = manager1.calculate_salary()\n",
        "print(f\"{manager1.name}'s salary with bonus: ${manager_salary}\")  # Output: Bob's salary with bonus: $1700\n"
      ],
      "metadata": {
        "colab": {
          "base_uri": "https://localhost:8080/"
        },
        "id": "H7dHch25BQQr",
        "outputId": "fb9218f1-833d-402c-def3-8217334ad7c3"
      },
      "execution_count": 14,
      "outputs": [
        {
          "output_type": "stream",
          "name": "stdout",
          "text": [
            "Alice's salary: $1000\n",
            "Bob's salary with bonus: $1700\n"
          ]
        }
      ]
    },
    {
      "cell_type": "markdown",
      "source": [
        "Q15>  Create a class Product with attributes name, price, and quantity. Implement a method total_price() that\n",
        "calculates the total price of the product."
      ],
      "metadata": {
        "id": "i2-iOTmCBWHc"
      }
    },
    {
      "cell_type": "code",
      "source": [
        "class Product:\n",
        "    def __init__(self, name, price, quantity):\n",
        "        # Initializing the attributes: name, price, and quantity\n",
        "        self.name = name\n",
        "        self.price = price\n",
        "        self.quantity = quantity\n",
        "\n",
        "    def total_price(self):\n",
        "        # Method to calculate total price (price * quantity)\n",
        "        return self.price * self.quantity\n",
        "\n",
        "# Creating an instance of Product\n",
        "product1 = Product(\"Laptop\", 1200, 3)\n",
        "\n",
        "# Calculating the total price of the product\n",
        "total = product1.total_price()\n",
        "\n",
        "# Displaying the result\n",
        "print(f\"The total price of {product1.name} is: ${total}\")  # Output: The total price of Laptop is: $3600\n"
      ],
      "metadata": {
        "colab": {
          "base_uri": "https://localhost:8080/"
        },
        "id": "u3OGDoPUBa5I",
        "outputId": "19c1718e-df84-4524-ebd2-252168106649"
      },
      "execution_count": 15,
      "outputs": [
        {
          "output_type": "stream",
          "name": "stdout",
          "text": [
            "The total price of Laptop is: $3600\n"
          ]
        }
      ]
    },
    {
      "cell_type": "markdown",
      "source": [
        "Q16> Create a class Animal with an abstract method sound(). Create two derived classes Cow and Sheep that\n",
        "implement the sound() method."
      ],
      "metadata": {
        "id": "AfKENxFLBitD"
      }
    },
    {
      "cell_type": "code",
      "source": [
        "from abc import ABC, abstractmethod\n",
        "\n",
        "# Abstract base class Animal\n",
        "class Animal(ABC):\n",
        "    @abstractmethod\n",
        "    def sound(self):\n",
        "        pass\n",
        "\n",
        "# Derived class Cow\n",
        "class Cow(Animal):\n",
        "    def sound(self):\n",
        "        return \"Moo\"\n",
        "\n",
        "# Derived class Sheep\n",
        "class Sheep(Animal):\n",
        "    def sound(self):\n",
        "        return \"Baa\"\n",
        "\n",
        "# Creating instances of Cow and Sheep\n",
        "cow = Cow()\n",
        "sheep = Sheep()\n",
        "\n",
        "# Calling the sound method\n",
        "print(f\"Cow sound: {cow.sound()}\")  # Output: Cow sound: Moo\n",
        "print(f\"Sheep sound: {sheep.sound()}\")  # Output: Sheep sound: Baa\n"
      ],
      "metadata": {
        "colab": {
          "base_uri": "https://localhost:8080/"
        },
        "id": "wl9BJjb_BoBu",
        "outputId": "f7445779-876a-4c1a-c1a9-36fdf608d59f"
      },
      "execution_count": 16,
      "outputs": [
        {
          "output_type": "stream",
          "name": "stdout",
          "text": [
            "Cow sound: Moo\n",
            "Sheep sound: Baa\n"
          ]
        }
      ]
    },
    {
      "cell_type": "markdown",
      "source": [
        "Q17> Create a class Book with attributes title, author, and year_published. Add a method get_book_info() that\n",
        "returns a formatted string with the book's details."
      ],
      "metadata": {
        "id": "ivt-TgNIBuvu"
      }
    },
    {
      "cell_type": "code",
      "source": [
        "class Book:\n",
        "    def __init__(self, title, author, year_published):\n",
        "        # Initializing the attributes: title, author, and year_published\n",
        "        self.title = title\n",
        "        self.author = author\n",
        "        self.year_published = year_published\n",
        "\n",
        "    def get_book_info(self):\n",
        "        # Returning a formatted string with the book's details\n",
        "        return f\"'{self.title}' by {self.author}, published in {self.year_published}\"\n",
        "\n",
        "# Creating an instance of Book\n",
        "book1 = Book(\"1984\", \"George Orwell\", 1949)\n",
        "\n",
        "# Calling the get_book_info method to get the book's details\n",
        "book_info = book1.get_book_info()\n",
        "\n",
        "# Printing the result\n",
        "print(book_info)  # Output: '1984' by George Orwell, published in 1949\n"
      ],
      "metadata": {
        "colab": {
          "base_uri": "https://localhost:8080/"
        },
        "id": "uN3J1KNsB39S",
        "outputId": "cb901b54-6c05-4066-e3cf-8dc0bbf5da5e"
      },
      "execution_count": 17,
      "outputs": [
        {
          "output_type": "stream",
          "name": "stdout",
          "text": [
            "'1984' by George Orwell, published in 1949\n"
          ]
        }
      ]
    },
    {
      "cell_type": "markdown",
      "source": [
        "Q18> Create a class House with attributes address and price. Create a derived class Mansion that adds an\n",
        "attribute number_of_rooms."
      ],
      "metadata": {
        "id": "-k5Lct5XB_OO"
      }
    },
    {
      "cell_type": "code",
      "source": [
        "# Base class House\n",
        "class House:\n",
        "    def __init__(self, address, price):\n",
        "        # Initializing attributes: address and price\n",
        "        self.address = address\n",
        "        self.price = price\n",
        "\n",
        "    def get_details(self):\n",
        "        # Method to return the details of the house\n",
        "        return f\"Address: {self.address}, Price: ${self.price}\"\n",
        "\n",
        "# Derived class Mansion\n",
        "class Mansion(House):\n",
        "    def __init__(self, address, price, number_of_rooms):\n",
        "        # Initialize base class attributes using super()\n",
        "        super().__init__(address, price)\n",
        "        # Adding the number_of_rooms attribute\n",
        "        self.number_of_rooms = number_of_rooms\n",
        "\n",
        "    def get_details(self):\n",
        "        # Override get_details method to include the number of rooms\n",
        "        return f\"Address: {self.address}, Price: ${self.price}, Rooms: {self.number_of_rooms}\"\n",
        "\n",
        "# Creating an instance of House\n",
        "house1 = House(\"123 Main St\", 250000)\n",
        "\n",
        "# Creating an instance of Mansion\n",
        "mansion1 = Mansion(\"456 Luxury Rd\", 5000000, 12)\n",
        "\n",
        "# Printing the details of the house and mansion\n",
        "print(house1.get_details())  # Output: Address: 123 Main St, Price: $250000\n",
        "print(mansion1.get_details())  # Output: Address: 456 Luxury Rd, Price: $5000000, Rooms: 12\n"
      ],
      "metadata": {
        "colab": {
          "base_uri": "https://localhost:8080/"
        },
        "id": "7_hJukXvCFJy",
        "outputId": "e2913c61-9472-4352-f82b-39ccb0f9528c"
      },
      "execution_count": 18,
      "outputs": [
        {
          "output_type": "stream",
          "name": "stdout",
          "text": [
            "Address: 123 Main St, Price: $250000\n",
            "Address: 456 Luxury Rd, Price: $5000000, Rooms: 12\n"
          ]
        }
      ]
    }
  ]
}